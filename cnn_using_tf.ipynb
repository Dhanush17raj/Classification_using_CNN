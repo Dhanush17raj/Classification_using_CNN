 {
  "nbformat": 4,
  "nbformat_minor": 0,
  "metadata": {
    "colab": {
      "name": "tf.ipynb",
      "provenance": [],
      "collapsed_sections": []
    },
    "kernelspec": {
      "name": "python3",
      "display_name": "Python 3"
    },
    "language_info": {
      "name": "python"
    },
    "accelerator": "GPU"
  },
  "cells": [
   {
      "cell_type": "markdown",
      "source": [
        "CNN"
      ],
      "metadata": {
        "id": "Pn-RWd4OVRBb"
      }
    },
    {
      "cell_type": "code",
      "source": [
        "import tensorflow as tf\n",
        "from tensorflow.keras import datasets, layers, models\n",
        "import matplotlib.pyplot as plt\n"
      ],
      "metadata": {
        "id": "y8ivJ9UzVR8Z"
      },
      "execution_count": 22,
      "outputs": []
    },
    {
      "cell_type": "code",
      "source": [
        "(train_images, train_labels), (test_images, test_labels) = datasets.cifar10.load_data()\n",
        "\n",
        "# normalizing pixel value b/w 0 & 1\n",
        "\n",
        "train_images, test_images = train_images / 255, test_images/ 255\n",
        "\n",
        "class_names  = ['airplane', 'automobile', 'bird', 'cat', 'deer',\n",
        "               'dog', 'frog', 'horse', 'ship', 'truck']\n",
        "\n"
      ],
      "metadata": {
        "colab": {
          "base_uri": "https://localhost:8080/"
        },
        "id": "6bk8CRV8V9vD",
        "outputId": "d40a4b4b-43a7-4e3a-ad2c-d86b49cf8ae0"
      },
      "execution_count": 23,
      "outputs": [
        {
          "output_type": "stream",
          "name": "stdout",
          "text": [
            "Downloading data from https://www.cs.toronto.edu/~kriz/cifar-10-python.tar.gz\n",
            "170500096/170498071 [==============================] - 6s 0us/step\n",
            "170508288/170498071 [==============================] - 6s 0us/step\n"
          ]
        }
      ]
    },
    {
      "cell_type": "code",
      "source": [
        "IMG_INDEX = 45\n",
        "\n",
        "plt.imshow(train_images[IMG_INDEX], cmap = plt.cm.binary)\n",
        "plt.xlabel(class_names[train_labels[IMG_INDEX][0]])"
      ],
      "metadata": {
        "colab": {
          "base_uri": "https://localhost:8080/",
          "height": 297
        },
        "id": "VKozPks8XFFL",
        "outputId": "7f473577-dc2d-4919-bb46-227328b4218f"
      },
      "execution_count": 24,
      "outputs": [
        {
          "output_type": "execute_result",
          "data": {
            "text/plain": [
              "Text(0.5, 0, 'automobile')"
            ]
          },
          "metadata": {},
          "execution_count": 24
        },
        {
          "output_type": "display_data",
          "data": {
            "text/plain": [
              "<Figure size 432x288 with 1 Axes>"
            ],
            "image/png": "[encoded data removed]"
          },
          "metadata": {
            "needs_background": "light"
          }
        }
      ]
    },
    {
      "cell_type": "markdown",
      "source": [
        "CNN Architecture - stack of Convolutional and maxPooling layers extract feature  from the image. Then these features are flattened and fed to a densely \n",
        "connected layer that determine the class of the image."
      ],
      "metadata": {
        "id": "MreCL36saAxf"
      }
    },
    {
      "cell_type": "code",
      "source": [
        "model = models.Sequential() #The Sequential model API is a way of creating deep learning models where \n",
        "#an instance of the Sequential class is created and model layers are created and added to it\n",
        "model.add(layers.Conv2D(32,(3,3), activation = 'relu', input_shape = (32, 32, 3)))\n",
        "model.add(layers.MaxPool2D((2, 2)))\n",
        "model.add(layers.Conv2D(64,(3,3), activation = 'relu'))\n",
        "model.add(layers.MaxPool2D((2, 2)))\n",
        "model.add(layers.Conv2D(64,(3,3), activation = 'relu'))\n",
        "\n"
      ],
      "metadata": {
        "id": "lkvGtCISZ_Oj"
      },
      "execution_count": 25,
      "outputs": []
    },
    {
      "cell_type": "markdown",
      "source": [
        "Layer 1\n",
        "\n",
        "The input shape of our data will be 32, 32, 3 and we will process 32 filters of size 3x3 over our input data. We will also apply the activation function relu to the output of each convolution operation.\n",
        "\n",
        "Layer 2\n",
        "\n",
        "This layer will perform the max pooling operation using 2x2 samples and a stride of 2.\n",
        "\n",
        "Other Layers\n",
        "\n",
        "The next set of layers do very similar things but take as input the feature map from the previous layer. They also increase the frequency of filters from 32 to 64. We can do this as our data shrinks in spacial dimensions as it passed through the layers, meaning we can afford (computationally) to add more depth."
      ],
      "metadata": {
        "id": "k37uCh2Ockjm"
      }
    },
    {
      "cell_type": "code",
      "source": [
        "model.summary()"
      ],
      "metadata": {
        "colab": {
          "base_uri": "https://localhost:8080/"
        },
        "id": "c_MskTMlcqwy",
        "outputId": "b0c4f36b-a8a8-425b-bd2c-857d8b39f2f8"
      },
      "execution_count": 26,
      "outputs": [
        {
          "output_type": "stream",
          "name": "stdout",
          "text": [
            "Model: \"sequential_1\"\n",
            "_________________________________________________________________\n",
            " Layer (type)                Output Shape              Param #   \n",
            "=================================================================\n",
            " conv2d (Conv2D)             (None, 30, 30, 32)        896       \n",
            "                                                                 \n",
            " max_pooling2d (MaxPooling2D  (None, 15, 15, 32)       0         \n",
            " )                                                               \n",
            "                                                                 \n",
            " conv2d_1 (Conv2D)           (None, 13, 13, 64)        18496     \n",
            "                                                                 \n",
            " max_pooling2d_1 (MaxPooling  (None, 6, 6, 64)         0         \n",
            " 2D)                                                             \n",
            "                                                                 \n",
            " conv2d_2 (Conv2D)           (None, 4, 4, 64)          36928     \n",
            "                                                                 \n",
            "=================================================================\n",
            "Total params: 56,320\n",
            "Trainable params: 56,320\n",
            "Non-trainable params: 0\n",
            "_________________________________________________________________\n"
          ]
        }
      ]
    },
    {
      "cell_type": "markdown",
      "source": [
        "This convolution layer base extracts the features in an image, and use these dense networks and use these combination of features and classify the images."
      ],
      "metadata": {
        "id": "1pgd3bm8dOIe"
      }
    },
    {
      "cell_type": "markdown",
      "source": [
        "Adding Dense Layers"
      ],
      "metadata": {
        "id": "Fjh2dDPTd1OV"
      }
    },
    {
      "cell_type": "code",
      "source": [
        "model.add(layers.Flatten())# flatten all the pixels, i.e put (4, 4, 64) into a single layer\n",
        "model.add(layers.Dense(64, activation = 'relu'))# 64 neuron dense layer that will connect all of the layers with an activation function\n",
        "model.add(layers.Dense(10))# output layer with 10 neurons"
      ],
      "metadata": {
        "id": "2VoRLOu6dzMt"
      },
      "execution_count": 27,
      "outputs": []
    },
    {
      "cell_type": "code",
      "source": [
        "model.summary()"
      ],
      "metadata": {
        "colab": {
          "base_uri": "https://localhost:8080/"
        },
        "id": "jisOH-yfZ6Hx",
        "outputId": "0078c56b-3a72-4edc-db7c-cf614fccd5e0"
      },
      "execution_count": 28,
      "outputs": [
        {
          "output_type": "stream",
          "name": "stdout",
          "text": [
            "Model: \"sequential_1\"\n",
            "_________________________________________________________________\n",
            " Layer (type)                Output Shape              Param #   \n",
            "=================================================================\n",
            " conv2d (Conv2D)             (None, 30, 30, 32)        896       \n",
            "                                                                 \n",
            " max_pooling2d (MaxPooling2D  (None, 15, 15, 32)       0         \n",
            " )                                                               \n",
            "                                                                 \n",
            " conv2d_1 (Conv2D)           (None, 13, 13, 64)        18496     \n",
            "                                                                 \n",
            " max_pooling2d_1 (MaxPooling  (None, 6, 6, 64)         0         \n",
            " 2D)                                                             \n",
            "                                                                 \n",
            " conv2d_2 (Conv2D)           (None, 4, 4, 64)          36928     \n",
            "                                                                 \n",
            " flatten_1 (Flatten)         (None, 1024)              0         \n",
            "                                                                 \n",
            " dense_2 (Dense)             (None, 64)                65600     \n",
            "                                                                 \n",
            " dense_3 (Dense)             (None, 10)                650       \n",
            "                                                                 \n",
            "=================================================================\n",
            "Total params: 122,570\n",
            "Trainable params: 122,570\n",
            "Non-trainable params: 0\n",
            "_________________________________________________________________\n"
          ]
        }
      ]
    },
    {
      "cell_type": "markdown",
      "source": [
        "Training"
      ],
      "metadata": {
        "id": "ndO73I6mfS8k"
      }
    },
    {
      "cell_type": "code",
      "source": [
        "model.compile(optimizer = 'adam', loss = tf.keras.losses.SparseCategoricalCrossentropy(from_logits = True),\n",
        "              metrics = ['accuracy'])\n",
        "history = model.fit(train_images, train_labels, epochs=4,\n",
        "                    validation_data = (test_images, test_labels))\n"
      ],
      "metadata": {
        "colab": {
          "base_uri": "https://localhost:8080/"
        },
        "id": "ZHqiBicjfU9f",
        "outputId": "2a5ba754-df73-48c4-da5e-853550186fcb"
      },
      "execution_count": 29,
      "outputs": [
        {
          "output_type": "stream",
          "name": "stdout",
          "text": [
            "Epoch 1/4\n",
            "1563/1563 [==============================] - 20s 7ms/step - loss: 1.5501 - accuracy: 0.4308 - val_loss: 1.3014 - val_accuracy: 0.5283\n",
            "Epoch 2/4\n",
            "1563/1563 [==============================] - 6s 4ms/step - loss: 1.1727 - accuracy: 0.5827 - val_loss: 1.1399 - val_accuracy: 0.5950\n",
            "Epoch 3/4\n",
            "1563/1563 [==============================] - 6s 4ms/step - loss: 1.0240 - accuracy: 0.6384 - val_loss: 0.9967 - val_accuracy: 0.6533\n",
            "Epoch 4/4\n",
            "1563/1563 [==============================] - 7s 4ms/step - loss: 0.9268 - accuracy: 0.6747 - val_loss: 0.9391 - val_accuracy: 0.6737\n"
          ]
        }
      ]
    },
    {
      "cell_type": "markdown",
      "source": [
        "Evaluating the model"
      ],
      "metadata": {
        "id": "AXlcqMU9BFaH"
      }
    },
    {
      "cell_type": "code",
      "source": [
        "test_loss, test_accu = model.evaluate(test_images, test_labels, verbose = 2)\n",
        "print(test_accu*100)"
      ],
      "metadata": {
        "colab": {
          "base_uri": "https://localhost:8080/"
        },
        "id": "xe0v6E61BI4G",
        "outputId": "39878716-70d3-41ae-8287-4fe72361034e"
      },
      "execution_count": 30,
      "outputs": [
        {
          "output_type": "stream",
          "name": "stdout",
          "text": [
            "313/313 - 1s - loss: 0.9391 - accuracy: 0.6737 - 690ms/epoch - 2ms/step\n",
            "67.36999750137329\n"
          ]
        }
      ]
    },
    {
      "cell_type": "markdown",
      "source": [
        "Data Augmenatation"
      ],
      "metadata": {
        "id": "sA1J9R1CCQlp"
      }
    },
    {
      "cell_type": "code",
      "source": [
        "# Data Augmenation is a technique to create a larger dataset from smaller one. It reduces overfitting. \n",
        "# It performs random transformation like compressions, rotations, streches and color changes"
      ],
      "metadata": {
        "id": "HLXIX2xuCKTz"
      },
      "execution_count": 31,
      "outputs": []
    },
    {
      "cell_type": "code",
      "source": [
        "from keras.preprocessing.image_dataset import image_dataset_from_directory\n",
        "from keras.preprocessing import image\n",
        "from keras.preprocessing.image import ImageDataGenerator\n",
        "\n",
        "#creating a data generator object that transforms image\n",
        "\n",
        "datagen = ImageDataGenerator(rotation_range= 40, width_shift_range=0.2, \n",
        "                             height_shift_range= 0.2,\n",
        "                             shear_range= 0.2, zoom_range= 0.2,\n",
        "                             horizontal_flip=True,\n",
        "                             fill_mode='nearest')\n",
        "\n",
        "# pick an image to transform\n",
        "\n",
        "test_img = train_images[10]\n",
        "img = image.img_to_array(test_img)# convert image to numpy array\n",
        "img = img.reshape((1,) + img.shape)# reshape image\n",
        "\n",
        "i =0\n",
        "\n",
        "for batch in datagen.flow(img, save_prefix = 'test', save_format = 'jpeg'): # It will do random augmentation/ transformation on an image until the loop breaks\n",
        "  plt.figure(i)\n",
        "  plot = plt.imshow(image.img_to_array(batch[0]))\n",
        "  i +=1\n",
        "  if i>4:\n",
        "    break\n",
        "plt.show()\n",
        "\n",
        "\n",
        "\n"
      ],
      "metadata": {
        "id": "BdWiy82BEL_C",
        "colab": {
          "base_uri": "https://localhost:8080/",
          "height": 1000
        },
        "outputId": "4a30b839-bbc0-4c6a-a139-f94d9577a269"
      },
      "execution_count": 32,
      "outputs": [
        {
          "output_type": "display_data",
          "data": {
            "text/plain": [
              "<Figure size 432x288 with 1 Axes>"
            ],
            "image/png": "[encoded data removed]"
          },
          "metadata": {
            "needs_background": "light"
          }
        },
        {
          "output_type": "display_data",
          "data": {
            "text/plain": [
              "<Figure size 432x288 with 1 Axes>"
            ],
            "image/png": "[encoded data removed]"
          },
          "metadata": {
            "needs_background": "light"
          }
        },
        {
          "output_type": "display_data",
          "data": {
            "text/plain": [
              "<Figure size 432x288 with 1 Axes>"
            ],
            "image/png": "[encoded data removed]"
          },
          "metadata": {
            "needs_background": "light"
          }
        },
        {
          "output_type": "display_data",
          "data": {
            "text/plain": [
              "<Figure size 432x288 with 1 Axes>"
            ],
            "image/png": "[encoded data removed]"
          },
          "metadata": {
            "needs_background": "light"
          }
        },
        {
          "output_type": "display_data",
          "data": {
            "text/plain": [
              "<Figure size 432x288 with 1 Axes>"
            ],
            "image/png": "[encoded data removed]"
          },
          "metadata": {
            "needs_background": "light"
          }
        }
      ]
    },
    {
      "cell_type": "markdown",
      "source": [
        "Pretrained Models"
      ],
      "metadata": {
        "id": "S0k_229jR3ed"
      }
    },
    {
      "cell_type": "markdown",
      "source": [
        "We are going to use models that are trained by google for this purpose.\n",
        "we are going to use the part of that model, as our base model. we are going to train the last few layers, called fine tuning.\n"
      ],
      "metadata": {
        "id": "WN_Ht0tDSQ81"
      }
    },
    {
      "cell_type": "markdown",
      "source": [
        "The beginning of the model or the base of that model is going to pick up general features, pick up the edges etc. The last few layers will help in identifying features like shapes. We add just few layers to the end part,\n",
        "to classify the images better.  "
      ],
      "metadata": {
        "id": "VkLwYQLcTkxx"
      }
    },
    {
      "cell_type": "code",
      "source": [
        "import os\n",
        "import numpy as np\n",
        "import matplotlib.pyplot as plt\n",
        "import tensorflow as tf\n",
        "keras = tf.keras"
      ],
      "metadata": {
        "id": "AG4QNWVXS8wM"
      },
      "execution_count": 33,
      "outputs": []
    },
    {
      "cell_type": "markdown",
      "source": [
        "Dataset - we will load the cats vs dogs dataset from the module tensorflow_datasets.\n",
        "\n",
        "This dataset contains (image, label) pairs where images have different dimensions and 3 color channels.\n"
      ],
      "metadata": {
        "id": "h1HU0bapV6Mb"
      }
    },
    {
      "cell_type": "code",
      "source": [
        "import tensorflow_datasets as tfds\n",
        "tfds.disable_progress_bar()\n",
        "\n",
        "# splitting the data manually into 80% training, 10% testing, 10% training\n",
        "\n",
        "(raw_train, raw_validation, raw_test), metadata = tfds.load(\n",
        "    'cats_vs_dogs',\n",
        "    split = ['train[:80%]', 'train[80%:90%]', 'train[90%:]'],\n",
        "    with_info = True,\n",
        "   as_supervised = True)"
      ],
      "metadata": {
        "id": "JpYGDK2kS82I"
      },
      "execution_count": null,
      "outputs": []
    },
    {
      "cell_type": "code",
      "source": [
        "get_label_name = metadata.features['label'].int2str\n",
        "#creating a function that allow us to call the strings with some integer\n",
        "\n",
        "for image, label in raw_train.take(2):\n",
        "  plt.image()\n",
        "  plt.imshow(image)\n",
        "  plt.title(get_label_name(label))\n"
      ],
      "metadata": {
        "id": "VF531Wa_Rr0h"
      },
      "execution_count": null,
      "outputs": []
    },
    {
      "cell_type": "markdown",
      "source": [
        "Data Preprocessing- converting images to same dimensions"
      ],
      "metadata": {
        "id": "2tuzAZMDxgYD"
      }
    },
    {
      "cell_type": "code",
      "source": [
        "IMG_SIZE = 160 # size of the image will be 160x160\n",
        "\n",
        "def format_example(image, label):\n",
        "\n",
        " \"\"\" return an image that is reshaped to IMG_SIZE \"\"\"\n",
        "\n",
        " image = tf.cast(image, tf.float32) #The \"tf. cast\" function casts a tensor to new type.\n",
        " image = tf.cast(image, tf.float32)\n",
        " image = tf.cast(image, tf.float32) \n",
        " image = (image/127.5)\n",
        " image = tf.image.resize(image, (IMG_SIZE, IMG_SIZE))\n",
        "\n",
        " return image, label\n",
        "\n"
      ],
      "metadata": {
        "id": "6NcCN-q8l50s"
      },
      "execution_count": null,
      "outputs": []
    },
    {
      "cell_type": "code",
      "source": [
        "\"\"\" Converting the images to the above dimension\"\"\"\n",
        "\n",
        "train = raw_train.map(format_example)\n",
        "validation = raw_validation(format_example)\n",
        "test = raw_test(format_example)"
      ],
      "metadata": {
        "id": "Tg94pXRsyNVq"
      },
      "execution_count": null,
      "outputs": []
    },
    {
      "cell_type": "code",
      "source": [
        "for image, label in train.take(2):\n",
        "  plt.figure()\n",
        "  plt.imshow(image)\n",
        "  plt.title(get_label_name(label))\n"
      ],
      "metadata": {
        "id": "g-9Qi7AezvzK"
      },
      "execution_count": null,
      "outputs": []
    },
    {
      "cell_type": "code",
      "source": [
        "for img, label in raw_train.take(2):\n",
        "  print(\"Original shape\", img.shape)\n",
        "\n",
        "for img, label in train.take(2):\n",
        "  print(\"New shape\", img.shape)"
      ],
      "metadata": {
        "id": "jzmd-3VU0RjL"
      },
      "execution_count": null,
      "outputs": []
    },
    {
      "cell_type": "markdown",
      "source": [
        "Picking a Pretrained Model"
      ],
      "metadata": {
        "id": "qI7Ipjcz0w4O"
      }
    },
    {
      "cell_type": "markdown",
      "source": [
        "The model we are going to use as the convolutional base for our model is the MobileNet V2 developed at Google. This model is trained on 1.4 million images and has 1000 different classes."
      ],
      "metadata": {
        "id": "J_r5dPzs2eIm"
      }
    },
    {
      "cell_type": "markdown",
      "source": [
        "We only use the convolution base. We don't want the classification part"
      ],
      "metadata": {
        "id": "XEngOjui2kUy"
      }
    },
    {
      "cell_type": "code",
      "source": [
        "IMG_SHAPE = (IMG_SIZE, IMG_SIZE, 3)\n",
        "\n",
        "# creating a base model from the pre_trained model MobileNet V2\n",
        "\n",
        "base_model = tf.keras.application.MobileNetV2(imput_shape = IMG_SHAPE<\n",
        "                                              include_top = False,\n",
        "                                              weights = 'imagenet')"
      ],
      "metadata": {
        "id": "-J_KdHTy0v0U"
      },
      "execution_count": null,
      "outputs": []
    },
    {
      "cell_type": "code",
      "source": [
        "for image, _ in train_batches.take(2):\n",
        "  pass\n",
        "\n",
        "  feature_batch = base_model(image)\n",
        "  print(feature_batch.shape)"
      ],
      "metadata": {
        "id": "ql2D7jVP4J_Q"
      },
      "execution_count": null,
      "outputs": []
    },
    {
      "cell_type": "markdown",
      "source": [
        "Base_model will simply output a shape (32, 5, 5, 1280) tensor that is a feature extraction from our original (1, 160, 160, 3) image. The 32 means that we have 32 layers of differnt filters/features."
      ],
      "metadata": {
        "id": "CQqCnmv64ruc"
      }
    },
    {
      "cell_type": "markdown",
      "source": [
        "Freeezing the Base"
      ],
      "metadata": {
        "id": "rU3S3FRqCjdv"
      }
    },
    {
      "cell_type": "markdown",
      "source": [
        "The term freezing refers to disabling the training property of a layer. It simply means we won’t make any changes to the weights of any layers that are frozen during training. This is important as we don't want to change the convolutional base that already has learned weights."
      ],
      "metadata": {
        "id": "RyRnntLOCxEA"
      }
    },
    {
      "cell_type": "code",
      "source": [
        "base_model.trainable = False"
      ],
      "metadata": {
        "id": "Cr82ua2hDxte"
      },
      "execution_count": null,
      "outputs": []
    },
    {
      "cell_type": "code",
      "source": [
        "base_model.summary"
      ],
      "metadata": {
        "id": "-QT4P8ch4uDw"
      },
      "execution_count": null,
      "outputs": []
    },
    {
      "cell_type": "markdown",
      "source": [
        "Adding Our Classifier"
      ],
      "metadata": {
        "id": "eLOKJfQjEAg6"
      }
    },
    {
      "cell_type": "markdown",
      "source": [
        "Now that we have our base layer setup, we can add the classifier. Instead of flattening the feature map of the base layer we will use a global average pooling layer that will average the entire 5x5 area of each 2D feature map and return to us a single 1280 element vector per filter."
      ],
      "metadata": {
        "id": "_UK2gFpJEKvX"
      }
    },
    {
      "cell_type": "code",
      "source": [
        "global_average_layer = tf.keras.layers.GlobalAveragePooling2D()\n"
      ],
      "metadata": {
        "id": "SMGRxvxcEQ48"
      },
      "execution_count": null,
      "outputs": []
    },
    {
      "cell_type": "markdown",
      "source": [
        "Fianlly we add the prediction layer that will be a single dense neuron and pedict the 2 classes"
      ],
      "metadata": {
        "id": "iiHnYZ-GF7HJ"
      }
    },
    {
      "cell_type": "code",
      "source": [
        "prediction_layer = keras.layers.Dense(1)"
      ],
      "metadata": {
        "id": "DFrYLwoMGJz5"
      },
      "execution_count": null,
      "outputs": []
    },
    {
      "cell_type": "markdown",
      "source": [
        "Combining the Layers"
      ],
      "metadata": {
        "id": "_48QNRCnGeUY"
      }
    },
    {
      "cell_type": "code",
      "source": [
        "model = tf.keras.Sequential([\n",
        "                             base_model,\n",
        "                             global_average_layer,\n",
        "                             prediction_layer\n",
        "])"
      ],
      "metadata": {
        "id": "XjXazZTyGceF"
      },
      "execution_count": null,
      "outputs": []
    },
    {
      "cell_type": "code",
      "source": [
        "model.summary()"
      ],
      "metadata": {
        "id": "UAScXPVjGyWa"
      },
      "execution_count": null,
      "outputs": []
    },
    {
      "cell_type": "markdown",
      "source": [
        "**Training the Model** - Learning the weights and biases for the global_average_layer and prediction_layer\n",
        "1281 params are there on the outer layer, i.e 1280 weights and 1 bias"
      ],
      "metadata": {
        "id": "oQf1ratAHDQh"
      }
    },
    {
      "cell_type": "code",
      "source": [
        "base_learning _rate = 0.0001 #we use a small learning rate beacuse we don't\n",
        "#want to have major changes\n",
        "model.compile(optimizer = tf.keras.optimizers.RMSprop(lr =base_learning _rate ).\n",
        "              loss = tf.keras.losses.BinaryCrossentropy(from_logits = True),\n",
        "              metrices = ['accuracy'])\n"
      ],
      "metadata": {
        "id": "3NsXD3cQG0qC"
      },
      "execution_count": null,
      "outputs": []
    },
    {
      "cell_type": "code",
      "source": [
        "# We can evaluate the model right now to see how it does before training it on our new images\n",
        "\n",
        "initial_epochs = 3\n",
        "validation_steps = 20\n",
        "\n",
        "losss0, accuracy0 = model.evaluate(validation_batches, steps = valodation_steps)"
      ],
      "metadata": {
        "id": "NgFfLodWf55N"
      },
      "execution_count": null,
      "outputs": []
    },
    {
      "cell_type": "code",
      "source": [
        "#training\n",
        "\n",
        "history = model.fit(train_batches,\n",
        "                    epochs = initial_epochs,\n",
        "                    validation_data =validation_batches)\n",
        "\n",
        "acc = history.history['accuracy']\n",
        "print(accu)"
      ],
      "metadata": {
        "id": "OzjgaeP4gVJ8"
      },
      "execution_count": null,
      "outputs": []
    },
    {
      "cell_type": "code",
      "source": [
        "model.save(\"dogs_vs_cats.h5\")\n",
        "new_model = tf.keras.models.load_model(\"dogs_vs_cats.h5\")# ones it is trained we don't have to retrain the model onews again"
      ],
      "metadata": {
        "id": "ZAhwUGg9iv7L"
      },
      "execution_count": null,
      "outputs": []
    },
    {
      "cell_type": "code",
      "source": [
        "model.predict"
      ],
      "metadata": {
        "id": "gYdleVVQjE9e"
      },
      "execution_count": null,
      "outputs": []
    },
    {
      "cell_type": "code",
      "source": [
        "#Object Detection"
      ],
      "metadata": {
        "id": "umc-JGwCjsWr"
      },
      "execution_count": null,
      "outputs": []
    }
  ]
}
